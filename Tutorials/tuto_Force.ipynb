{
 "cells": [
  {
   "cell_type": "markdown",
   "metadata": {},
   "source": [
    "# How to compute magnetic forces using Force Module\n",
    "\n",
    "This tutorial shows the different steps to **compute magnetic forces** with pyleecan.\n",
    " \n",
    "The notebook related to this tutorial is available on [GitHub](https://github.com/Eomys/pyleecan/tree/master/Tutorials/tuto_Force.ipynb).\n",
    "\n",
    "The first step consists in getting simulation data. In order to demonstrate the capabilities of the plot commands, a simulation over 2048 time steps has been performed in the [simulation tutorial](https://pyleecan.org/tuto_Simulation_FEMM.html), and the resulting **Output** object has been stored on Pyleecan's website. First, these results need to be downloaded:"
   ]
  },
  {
   "cell_type": "code",
   "execution_count": null,
   "metadata": {
    "tags": []
   },
   "outputs": [],
   "source": [
    "# Import Pyleecan modules\n",
    "from pyleecan.Functions.load import load\n",
    "from pyleecan.definitions import USER_DIR\n",
    "from os.path import join, isfile\n",
    "from json import load as jload\n",
    "import urllib.request\n",
    "\n",
    "data_path = join(USER_DIR, 'tuto_Simu_FEMM_results.json')\n",
    "\n",
    "# Download simulation data (if needed)\n",
    "if not isfile(data_path):\n",
    "    print('Downloading the simulation data...')\n",
    "    url = 'https://www.pyleecan.org/Data/tuto_Simu_FEMM_results.json'\n",
    "    urllib.request.urlretrieve(url, data_path)\n",
    "    print(\"Done\")\n",
    "\n",
    "# Load Output object from json file\n",
    "print(\"Loading json file...\")\n",
    "out = load(data_path)\n",
    "print(\"Done\")"
   ]
  },
  {
   "cell_type": "markdown",
   "metadata": {},
   "source": [
    "## Force Module\n",
    "The Force abstract class will make it possible to define different ways of calculating forces. \n",
    "\n",
    "The ForceMT class inherits from Force class. ForceMT is dedicated to the computation of air-gap surface force based on the Maxwell stress tensor \\[[source](https://eomys.com/IMG/pdf/comparison-main-magnetic.pdf)\\]. \n",
    "\n",
    "Here, we get the results from a magnetic simulation without any force calculation. The Force module is initialized and run alone. "
   ]
  },
  {
   "cell_type": "code",
   "execution_count": null,
   "metadata": {},
   "outputs": [],
   "source": [
    "from pyleecan.Classes.Simu1 import Simu1\n",
    "from pyleecan.Classes.ForceMT import ForceMT\n",
    "\n",
    "# Create the Simulation\n",
    "mySimu = Simu1(name=\"Tuto_Force\")  \n",
    "mySimu.parent = out\n",
    "mySimu.force = ForceMT()\n",
    "\n",
    "# Run only the force module\n",
    "mySimu.force.run()"
   ]
  },
  {
   "cell_type": "markdown",
   "metadata": {},
   "source": [
    "Once the simulation is finished, the results are stored in the force part of the output (i.e. _myResults.force_ ) and we can call different plots. This object contains:   \n",
    "- *time*: Time vector without symmetry   \n",
    "- *angle*: Position vector without symmetry   \n",
    "- *Nt_tot*: Length of the time vector\n",
    "- *Na_tot*: Length of the angle vector \n",
    "- *Prad*: Radial airgap surface force  \n",
    "- *Ptan*: Tangential airgap surface force\n",
    "    \n",
    "**Output** object embbed different plot to visualize results easily. You can find a dedicated tutorial [here](https://www.pyleecan.org/tuto_Plots.html).\n",
    "\n",
    "Here are some example of useful plots."
   ]
  },
  {
   "cell_type": "code",
   "execution_count": null,
   "metadata": {},
   "outputs": [],
   "source": [
    "%matplotlib notebook\n",
    "out.plot_2D_Data(\"force.P\", \"angle\")\n",
    "out.plot_2D_Data(\"force.P\", \"wavenumber=[0,78]\")"
   ]
  },
  {
   "cell_type": "code",
   "execution_count": null,
   "metadata": {},
   "outputs": [],
   "source": [
    "from numpy import pi\n",
    "\n",
    "#------------------------------------------------------\n",
    "# Plot the air-gap force as a function of time with the time fft\n",
    "out.plot_2D_Data(\"force.P\", \"time\",\"angle[10]\", is_auto_ticks=False)\n",
    "out.plot_2D_Data(\"force.P\", \"freqs=[0,4000]\", is_auto_ticks=False)\n",
    "#------------------------------------------------------"
   ]
  },
  {
   "cell_type": "markdown",
   "metadata": {},
   "source": [
    "You can also define your own plot. \n",
    "The following plot requires plotly to display the radial air-gap surface force over time and angle. "
   ]
  },
  {
   "cell_type": "code",
   "execution_count": null,
   "metadata": {},
   "outputs": [],
   "source": [
    "#------------------------------------------------------\n",
    "# Plot the tangential force as a function of time and space\n",
    "out.plot_A_time_space(\"force.P\", freq_max=freq_max, r_max=r_max)\n",
    "#------------------------------------------------------"
   ]
  }
 ],
 "metadata": {
  "celltoolbar": "Format de la Cellule Texte Brut",
  "kernelspec": {
   "display_name": "Python 3",
   "language": "python",
   "name": "python3"
  },
  "language_info": {
   "codemirror_mode": {
    "name": "ipython",
    "version": 3
   },
   "file_extension": ".py",
   "mimetype": "text/x-python",
   "name": "python",
   "nbconvert_exporter": "python",
   "pygments_lexer": "ipython3",
   "version": "3.8.3"
  }
 },
 "nbformat": 4,
 "nbformat_minor": 4
}
